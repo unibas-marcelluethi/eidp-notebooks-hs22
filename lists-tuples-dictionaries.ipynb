{
 "cells": [
  {
   "cell_type": "markdown",
   "id": "360e0bba",
   "metadata": {},
   "source": [
    "# Repetition: Zusammengesetzte Datentypen"
   ]
  },
  {
   "cell_type": "markdown",
   "id": "baec4206",
   "metadata": {},
   "source": [
    "### Übersicht\n",
    "\n",
    "#### Listen, Tupel und Dictionaries\n",
    "\n",
    "| Typ | Verwaltet | Veränderbarkeit | Indizierung | \n",
    "| ----|-----------|-----------------|-------------|\n",
    "| Tupel| Fixe Anzahl Werte | Unveränderlich | Indiziert durch Zahl|\n",
    "| Liste | Variable Anzahl Werte | Veränderlich |Indiziert durch Zahl |\n",
    "| Dictionary | Variable Anzahl Werte | Veränderlich | Indiziert durch beliebigen Wert |\n",
    "\n",
    "\n",
    "#### Klassen \n",
    "\n",
    "Flexibler, eigener Datentyp mit eigenen Operationen. Jede der obigen Typen kann mittels Klassen implementiert werden. "
   ]
  },
  {
   "cell_type": "markdown",
   "id": "521425b1",
   "metadata": {},
   "source": [
    "### Objekte erstellen"
   ]
  },
  {
   "cell_type": "markdown",
   "id": "e31723e8",
   "metadata": {},
   "source": [
    "Tupel:"
   ]
  },
  {
   "cell_type": "code",
   "execution_count": 1,
   "id": "145f0046",
   "metadata": {},
   "outputs": [],
   "source": [
    "t = (\"first\", \"second\", \"third\")"
   ]
  },
  {
   "cell_type": "markdown",
   "id": "c5bf5ef9",
   "metadata": {},
   "source": [
    "Liste:"
   ]
  },
  {
   "cell_type": "code",
   "execution_count": 2,
   "id": "53955940",
   "metadata": {},
   "outputs": [],
   "source": [
    "l = [\"first\", \"second\", \"third\"]"
   ]
  },
  {
   "cell_type": "markdown",
   "id": "c233755b",
   "metadata": {},
   "source": [
    "Dictionary:"
   ]
  },
  {
   "cell_type": "code",
   "execution_count": null,
   "id": "dd89ebe8",
   "metadata": {},
   "outputs": [],
   "source": [
    "d = {\"key1\" : \"aValue\", \"key2\" : \"anotherValue\", \"key3\" : \"aThirdValue\"}"
   ]
  },
  {
   "cell_type": "markdown",
   "id": "132a4fbc",
   "metadata": {},
   "source": [
    "### Elemente ansprechen"
   ]
  },
  {
   "cell_type": "code",
   "execution_count": null,
   "id": "61b6790c",
   "metadata": {},
   "outputs": [],
   "source": [
    "print(t[0], t[1], t[2])"
   ]
  },
  {
   "cell_type": "code",
   "execution_count": null,
   "id": "e02b16a5",
   "metadata": {},
   "outputs": [],
   "source": [
    "print(l[0], l[1], l[2])"
   ]
  },
  {
   "cell_type": "code",
   "execution_count": null,
   "id": "7bc10a5d",
   "metadata": {},
   "outputs": [],
   "source": [
    "print(d[\"key1\"], d[\"key2\"], d[\"key3\"])"
   ]
  },
  {
   "cell_type": "markdown",
   "id": "72f54517",
   "metadata": {},
   "source": [
    "### Elemente verändern"
   ]
  },
  {
   "cell_type": "markdown",
   "id": "f19d9dfe",
   "metadata": {},
   "source": [
    "Tupel (nicht möglich):"
   ]
  },
  {
   "cell_type": "code",
   "execution_count": null,
   "id": "bff99bf1",
   "metadata": {},
   "outputs": [],
   "source": [
    "# Elemente von Tupeln sind unveränderlich\n",
    "t[0] = \"anotherValue\"\n",
    "print(t)"
   ]
  },
  {
   "cell_type": "markdown",
   "id": "e1907fa5",
   "metadata": {},
   "source": [
    "Listen:"
   ]
  },
  {
   "cell_type": "code",
   "execution_count": null,
   "id": "91e17686",
   "metadata": {},
   "outputs": [],
   "source": [
    "l[0] = \"1st\"\n",
    "print(l)"
   ]
  },
  {
   "cell_type": "markdown",
   "id": "4c00318c",
   "metadata": {},
   "source": [
    "Dictionaries:"
   ]
  },
  {
   "cell_type": "code",
   "execution_count": null,
   "id": "54b61a04",
   "metadata": {},
   "outputs": [],
   "source": [
    "d[\"key1\"] = \"anotherValue\"\n",
    "print(d)"
   ]
  },
  {
   "cell_type": "markdown",
   "id": "edbc3536",
   "metadata": {},
   "source": [
    "#### Mehrere Werte an Variablen zuweisen (unpacking)"
   ]
  },
  {
   "cell_type": "markdown",
   "id": "05cea051",
   "metadata": {},
   "source": [
    "Tupel:"
   ]
  },
  {
   "cell_type": "code",
   "execution_count": null,
   "id": "c7ed8c53",
   "metadata": {},
   "outputs": [],
   "source": [
    "(first, second, third) = t\n",
    "print(first, second, third)"
   ]
  },
  {
   "cell_type": "markdown",
   "id": "607ab667",
   "metadata": {},
   "source": [
    "Listen:"
   ]
  },
  {
   "cell_type": "code",
   "execution_count": null,
   "id": "00520cff",
   "metadata": {},
   "outputs": [],
   "source": [
    "(first, second, third) = l\n",
    "print(first, second, third)"
   ]
  },
  {
   "cell_type": "markdown",
   "id": "5f31cd01",
   "metadata": {},
   "source": [
    "Dictionaries"
   ]
  },
  {
   "cell_type": "code",
   "execution_count": null,
   "id": "ff52f475",
   "metadata": {},
   "outputs": [],
   "source": [
    "[(key1, value1), (key2, value2), (key3, value3)] = (d.items())\n",
    "print(key1, value1, key2, value2, key3, value3)"
   ]
  },
  {
   "cell_type": "markdown",
   "id": "691b9730",
   "metadata": {},
   "source": [
    "### Elemente hinzufügen"
   ]
  },
  {
   "cell_type": "markdown",
   "id": "bdcb1517",
   "metadata": {},
   "source": [
    "Tupel (nicht möglich)"
   ]
  },
  {
   "cell_type": "code",
   "execution_count": null,
   "id": "9eaa375f",
   "metadata": {},
   "outputs": [],
   "source": [
    "# append Methode ist nicht definiert\n",
    "t.append(\"abc\")"
   ]
  },
  {
   "cell_type": "markdown",
   "id": "8377df45",
   "metadata": {},
   "source": [
    "Liste"
   ]
  },
  {
   "cell_type": "code",
   "execution_count": null,
   "id": "a38aba7f",
   "metadata": {},
   "outputs": [],
   "source": [
    "l.append(\"forth\")\n",
    "print(l)"
   ]
  },
  {
   "cell_type": "markdown",
   "id": "01530c58",
   "metadata": {},
   "source": [
    "Dictionary"
   ]
  },
  {
   "cell_type": "code",
   "execution_count": null,
   "id": "e6a684b0",
   "metadata": {},
   "outputs": [],
   "source": [
    "d[\"newKey\"] = \"newValue\"\n",
    "print(d)"
   ]
  },
  {
   "cell_type": "markdown",
   "id": "50dc68d6",
   "metadata": {},
   "source": [
    "### Iterieren"
   ]
  },
  {
   "cell_type": "markdown",
   "id": "00b36a34",
   "metadata": {},
   "source": [
    "Tupel"
   ]
  },
  {
   "cell_type": "code",
   "execution_count": null,
   "id": "8d4353fa",
   "metadata": {},
   "outputs": [],
   "source": [
    "for element in t:\n",
    "    print(element)"
   ]
  },
  {
   "cell_type": "markdown",
   "id": "1b329eb0",
   "metadata": {},
   "source": [
    "Liste"
   ]
  },
  {
   "cell_type": "code",
   "execution_count": null,
   "id": "f8084038",
   "metadata": {},
   "outputs": [],
   "source": [
    "for element in l:\n",
    "    print(element)"
   ]
  },
  {
   "cell_type": "markdown",
   "id": "a0d3a290",
   "metadata": {},
   "source": [
    "Dictionary"
   ]
  },
  {
   "cell_type": "code",
   "execution_count": null,
   "id": "421a8e73",
   "metadata": {},
   "outputs": [],
   "source": [
    "for key in d:\n",
    "    print(key)\n",
    "    print(d[key])\n",
    "    "
   ]
  },
  {
   "cell_type": "code",
   "execution_count": null,
   "id": "a48e8185",
   "metadata": {},
   "outputs": [],
   "source": [
    "for keyAndValue in d.items():\n",
    "    print(keyAndValue)"
   ]
  },
  {
   "cell_type": "code",
   "execution_count": null,
   "id": "912532e5",
   "metadata": {},
   "outputs": [],
   "source": [
    "for (key, Value) in d.items():\n",
    "    print(keyAndValue)"
   ]
  },
  {
   "cell_type": "markdown",
   "id": "13ec8e4b",
   "metadata": {},
   "source": [
    "## Aufgabe zu Listen, Tupel und Dictionaries"
   ]
  },
  {
   "cell_type": "markdown",
   "id": "e9a8bb72",
   "metadata": {},
   "source": [
    "#### Aufgabe 1\n",
    "\n",
    "Schreiben Sie eine Funktion ```multiple_elements```, welche eine Liste von Ganzzahlen als Argument entgegennimmt. Die Funktion soll eine neue Liste zurückgeben, bei der jedes Element $n$-Mal wiederholt werden, wobei $n$ dem Wert des entsprechenden Elements entspricht.  \n",
    "\n",
    "Beispiel: Der Aufruf ```multiple_elements([2, 3, 0, 1])``` soll die List ```[2, 2, 3, 3, 3, 1]``` zurückgeben. "
   ]
  },
  {
   "cell_type": "code",
   "execution_count": null,
   "id": "5cdea66b",
   "metadata": {},
   "outputs": [],
   "source": []
  },
  {
   "cell_type": "markdown",
   "id": "16a2c1c7",
   "metadata": {},
   "source": [
    "#### Aufgabe 2 \n",
    "\n",
    "Schreiben Sie eine Funktion ```set_equals``` welche zwei Listen als Argumente entgegennimmt. Die Funktion soll ```True``` zurückgeben, falls jedes Elemente in der ersten Liste auch in der zweiten Liste vorkommt und jedes in der zweiten Liste vorhandene Element auch in der ersten. Ansonsten soll ```False``` zurückgeben werden. \n",
    "\n",
    "Für die zwei Listen ```[1, 3, 3, 4]``` und ```[4, 1, 3, 1, 4]``` würde die Funktion also ```True``` zurückliefern, für die zwei Listen ```[1, 3, 4]``` und ```[1, 4]``` jedoch ```False```. \n"
   ]
  },
  {
   "cell_type": "code",
   "execution_count": null,
   "id": "0040c541",
   "metadata": {},
   "outputs": [],
   "source": []
  },
  {
   "cell_type": "markdown",
   "id": "6e1aba29",
   "metadata": {},
   "source": [
    "#### Aufgabe 3: Liste von Listen \n",
    "\n",
    "Implementieren Sie eine Funktion ```reshape``` die eine Liste sowie ein Argument $n$ entgegennimmt. Die Funktion soll eine Liste von Listen zurückgeben. Dabei sollen die ersten $n$ Elemente in der ersten Liste sein, die nächsten $n$ in der zweiten, etc. Die letzte Liste darf dabei unvollständig sein. \n",
    "\n",
    "Beispiel:\n",
    "\n",
    "Der Aufruf: ```reshape([1,2,3,4,5], 2)``` soll die Liste ```[[1,2],[3,4], [5]]``` zurückgeben. "
   ]
  },
  {
   "cell_type": "code",
   "execution_count": null,
   "id": "53dc7fc3",
   "metadata": {},
   "outputs": [],
   "source": []
  },
  {
   "cell_type": "markdown",
   "id": "f4ad13c2",
   "metadata": {},
   "source": [
    "#### Aufgabe 4: Dictionaries \n",
    "\n",
    "Implementieren Sie eine Funktion ```list_to_dictionary``` welche eine Liste von Tupeln entgegennimmt, und ein Dictionary zurückgibt, welches als Schlüssel jeweils das erste Element im Tupel nimmt und als Wert das zweite Element. Falls derselbe Schlüssel mit unterschiedlichem Wert zwei Tupeln vorkommt, soll der Wert jeweils überschrieben werden. \n"
   ]
  },
  {
   "cell_type": "code",
   "execution_count": null,
   "id": "781542c1",
   "metadata": {},
   "outputs": [],
   "source": []
  },
  {
   "cell_type": "markdown",
   "id": "cecba54b",
   "metadata": {},
   "source": [
    "### Klassen"
   ]
  },
  {
   "cell_type": "markdown",
   "id": "91598113",
   "metadata": {},
   "source": [
    "Klassen lassen uns Daten und darauf anwendbare Methoden definieren."
   ]
  },
  {
   "cell_type": "markdown",
   "id": "3f088337",
   "metadata": {},
   "source": [
    "#### Definition der Klasse"
   ]
  },
  {
   "cell_type": "code",
   "execution_count": null,
   "id": "d737b5a8",
   "metadata": {},
   "outputs": [],
   "source": [
    "class Person:        \n",
    "\n",
    "    def __init__(self, firstname, surname):\n",
    "        self.title = \"\" \n",
    "        self.firstname = firstname\n",
    "        self.surname = surname\n",
    "\n",
    "    def entitle(self):\n",
    "        self.title = \"Dr.\"\n",
    "        \n",
    "    ### Spezielle Methode, um das Objekt auszugeben\n",
    "    def __str__(self):\n",
    "        return self.title +\" \" + self.firstname + \" \" + self.surname"
   ]
  },
  {
   "cell_type": "code",
   "execution_count": null,
   "id": "0165d973",
   "metadata": {},
   "outputs": [],
   "source": [
    "p1 = Person(\"Marcel\", \"Lüthi\")\n",
    "p2 = Person(\"John\", \"Doe\")\n",
    "\n",
    "print(p1.firstname)"
   ]
  },
  {
   "cell_type": "markdown",
   "id": "5331dce0",
   "metadata": {},
   "source": [
    "###  Exkurs: List comprehensions  - nicht prüfungsrelevant"
   ]
  },
  {
   "cell_type": "markdown",
   "id": "989c9942",
   "metadata": {},
   "source": [
    "Mengenschreibweise in der Mathematik: \n",
    "$\\{f(x) | x \\in \\{0,\\dots, 10\\}\\}$"
   ]
  },
  {
   "cell_type": "code",
   "execution_count": null,
   "id": "5b777e31",
   "metadata": {},
   "outputs": [],
   "source": [
    "[x * 2 for x in range(0, 10)]"
   ]
  },
  {
   "cell_type": "markdown",
   "id": "f9dc9bde",
   "metadata": {},
   "source": [
    "Mengenschreibweise in der Mathematik: \n",
    "$\\{f(x, y) | x \\in \\{0,\\dots, 10\\}, y \\in \\{0,\\dots, 10\\}\\}$"
   ]
  },
  {
   "cell_type": "code",
   "execution_count": null,
   "id": "608d1be2",
   "metadata": {},
   "outputs": [],
   "source": [
    "[(x, y) for x in range(0, 3) for y in range(0, 4)]"
   ]
  },
  {
   "cell_type": "markdown",
   "id": "a4e170f6",
   "metadata": {},
   "source": [
    "Mengenschreibweise in der Mathematik: \n",
    "$\\{f(x, y) | x \\in \\{0,\\dots, 10\\}, y \\in \\{0,\\dots, 10\\}, x\\cdot y \\mod 4 = 0\\}$"
   ]
  },
  {
   "cell_type": "code",
   "execution_count": null,
   "id": "f66f1606",
   "metadata": {},
   "outputs": [],
   "source": [
    "[(x, y) for x in range(1, 10) for y in range(1, 10) if x * y % 4 == 0]"
   ]
  },
  {
   "cell_type": "code",
   "execution_count": null,
   "id": "9f3e5de0",
   "metadata": {},
   "outputs": [],
   "source": []
  }
 ],
 "metadata": {
  "kernelspec": {
   "display_name": "Python 3 (ipykernel)",
   "language": "python",
   "name": "python3"
  },
  "language_info": {
   "codemirror_mode": {
    "name": "ipython",
    "version": 3
   },
   "file_extension": ".py",
   "mimetype": "text/x-python",
   "name": "python",
   "nbconvert_exporter": "python",
   "pygments_lexer": "ipython3",
   "version": "3.9.7"
  }
 },
 "nbformat": 4,
 "nbformat_minor": 5
}
