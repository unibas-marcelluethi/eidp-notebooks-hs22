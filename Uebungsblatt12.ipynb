{
 "cells": [
  {
   "cell_type": "markdown",
   "metadata": {},
   "source": [
    "# Übungsblatt 11"
   ]
  },
  {
   "cell_type": "markdown",
   "metadata": {
    "deletable": false
   },
   "source": [
    "*Schreiben Sie in dieses Feld Ihren Vornamen, Namen und Matrikelnummer.*"
   ]
  },
  {
   "cell_type": "markdown",
   "metadata": {
    "deletable": false
   },
   "source": [
    "#### Übung 1: Schaltjahr (1 Punkt)\n",
    "\n",
    "Implementieren Sie die Funktion ```is_leap_year``` welche eine Jahreszahl als Argument entgegennimmt und ```True``` zurückgibt, falls es sich bei dem Jahr um ein Schaltjahr handelt. Ansonsten soll ```False``` zurückgegeben werden. Zur Erinnerung: ein Schaltjahr ist ein Jahr welches durch 4 teilbar ist, aber nicht zugleich durch 100. Also ist 2004 ein Schaltjahr, 1900 aber nicht. "
   ]
  },
  {
   "cell_type": "code",
   "execution_count": 7,
   "metadata": {
    "deletable": false,
    "exercise_id": 1
   },
   "outputs": [
    {
     "data": {
      "text/plain": [
       "False"
      ]
     },
     "execution_count": 7,
     "metadata": {},
     "output_type": "execute_result"
    }
   ],
   "source": [
    "def is_leap_year(year):\n",
    "    return year % 4 == 0 and year % 100 != 0\n",
    "\n",
    "is_leap_year(1997)"
   ]
  },
  {
   "cell_type": "markdown",
   "metadata": {},
   "source": [
    "\n",
    "#### Übung 2: DNA (1 Punkte)\n",
    "\n",
    "Implementieren Sie die Funktion ```is_valid_DNA```, welche einen Text (String) als Argument entgegennimmt und prüft ob dieser ausschliesslich aus den Zeichen *A C G* und *T*  besteht. Wenn dies der Fall ist wird ```True``` ansonsten ```False``` zurückgegeben. "
   ]
  },
  {
   "cell_type": "code",
   "execution_count": 15,
   "metadata": {
    "deletable": false,
    "exercise_id": 2
   },
   "outputs": [],
   "source": [
    "def is_valid_DNA(text):\n",
    "    for c in text:\n",
    "        if not (c in [\"A\", \"C\", \"G\", \"T\"]):\n",
    "            return False\n",
    "    return True\n",
    "\n",
    "# Der folgende Aufruf sollte True ergeben\n",
    "#is_valid_DNA(\"ACGTTA\")\n",
    "# und dieser False\n",
    "#is_valid_DNA(\"AYGBA\")"
   ]
  },
  {
   "cell_type": "code",
   "execution_count": 13,
   "metadata": {},
   "outputs": [
    {
     "name": "stdout",
     "output_type": "stream",
     "text": [
      "False\n"
     ]
    }
   ],
   "source": []
  },
  {
   "cell_type": "markdown",
   "metadata": {},
   "source": [
    "#### Übung 3:  Datumsklasse (5 Punkte)\n",
    "\n",
    "Implementieren Sie eine Klasse ```Date```, die ein Datum repräsentiert. Mit dem Aufruf ```Date(DAY, MONTH, YEAR)``` soll dabei ein neues Datum erstellt werden können. Dabei stehen `DAY`, `MONTH` und `YEAR` für den Tag, den Monat und das Jahr, welche jeweils als Zahlen repräsentiert werden. So wäre ```Date(13, 2, 1999)``` ein gültiger Aufruf. \n",
    "\n",
    "Implementieren Sie eine Methode ```is_valid```, welche ```True``` zurückgibt, wenn die Instanz ein gültiges Kalenderdatum repräsentiert. Zum Beispiel ist der 30.12.2012 ein gültiges Datum, aber der 31.2.2020 nicht. Sie müssen dabei Schaltjahre nicht berücksichtigen. \n",
    "\n",
    "Implementieren Sie eine Methode ```is_less_than```, welche ```True``` zurückgibt, wenn das in der Instanz repräsentierte Datum kleiner ist als ein als Argument übergebenes Datum. Anonsten soll ```False``` zurückgegeben werden. "
   ]
  },
  {
   "cell_type": "code",
   "execution_count": 45,
   "metadata": {
    "deletable": false,
    "exercise_id": 3
   },
   "outputs": [
    {
     "name": "stdout",
     "output_type": "stream",
     "text": [
      "False\n"
     ]
    }
   ],
   "source": [
    "# Hier kommt Ihre Klasse hin\n",
    "class Date:\n",
    "    \n",
    "    \n",
    "    def __init__(self, day, month, year):\n",
    "        self.day = day\n",
    "        self.month = month\n",
    "        self.year = year\n",
    "    \n",
    "    def is_valid(self):\n",
    "        return self.month >= 1 and self.month <= 12 and self.day >= 0 and self.day <= 31 and\\\n",
    "        (self.month == 2 and self.day <= 28 or self.month in [1, 3, 5, 7, 8, 10, 12] and self.day <= 31 or\n",
    "        self.month in [4, 6, 9, 11] and self.day <= 30)\n",
    "        \n",
    "    def is_less_than(self, other):\n",
    "        return self.year < other.year or\\\n",
    "        (self.year == other.year and self.month < other.month) or\\\n",
    "        (self.year == other.year and self.month == other.month) and self.day < other.day\n",
    "        \n",
    "d1 = Date(1, 1, 2022)\n",
    "d2 = Date(2, 1, 2021)\n",
    "print(d1.is_less_than(d2))"
   ]
  },
  {
   "cell_type": "markdown",
   "metadata": {},
   "source": [
    "##### Übung 4: Magisches Quadrat (3 Punkte)\n",
    "\n",
    "Ein magisches Quadrat ist eine quadratische Matrix, für die die Summe jeder Zeile, jeder Spalte und der beiden Diagonalen denselben Wert ergibt. Implementieren Sie die Funktion ```is_magic_square``` die eine quadratische Matrix, repräsentiert als Liste von Listen entgegennimmt und ```True``` zurückgibt, falls es sich um ein Magisches Quadrat handelt. Ansonsten soll ```False``` zurückgegeben werden. "
   ]
  },
  {
   "cell_type": "code",
   "execution_count": 56,
   "metadata": {
    "deletable": false,
    "exercise_id": 4
   },
   "outputs": [
    {
     "name": "stdout",
     "output_type": "stream",
     "text": [
      "True\n",
      "True\n"
     ]
    }
   ],
   "source": [
    "\n",
    "def is_magic_square(matrix):\n",
    "    sum_rows = []\n",
    "    sum_cols = []\n",
    " \n",
    "    sum_diag1 = 0\n",
    "    sum_diag2 = 0\n",
    "    for i in range(0, len(matrix)):\n",
    "        sum_row = 0\n",
    "        sum_col = 0\n",
    "        \n",
    "        sum_diag1 = sum_diag1 + matrix[i][i]\n",
    "        sum_diag2 = sum_diag2 + matrix[len(matrix) -1 -i][i]\n",
    "        \n",
    "        for j in range(0, len(matrix[i])):\n",
    "            sum_row = sum_row + matrix[i][j]\n",
    "            sum_col = sum_col + matrix[j][i]\n",
    "        sum_rows.append(sum_row)\n",
    "        sum_cols.append(sum_col)\n",
    "    \n",
    "    expected_sum = sum_rows[0]\n",
    "    \n",
    "    all_sums = sum_rows + sum_cols\n",
    "    all_sums.append(sum_diag1)\n",
    "    all_sums.append(sum_diag2)\n",
    "    \n",
    "    for s in all_sums:\n",
    "        if s != expected_sum:\n",
    "            return False\n",
    "    return True\n",
    "\n",
    "    \n",
    "#     for i in range(0, len(matrix)):\n",
    "#         if (sum_rows[i] != expected_sum):\n",
    "#             return False\n",
    "#         if (sum_cols[i] != expected_sum):\n",
    "#             return False\n",
    "#     if sum_diag1 != expected_sum or sum_diag2 != expected_sum:\n",
    "#         return False\n",
    "#     return True\n",
    "        \n",
    "\n",
    "        \n",
    "# Die folgenden Aufrufe sollten True ergeben\n",
    "print(is_magic_square([[2, 7, 6], [9, 5, 1], [4, 3, 8]]))\n",
    "print(is_magic_square([[1, 1], [1, 1]]))"
   ]
  },
  {
   "cell_type": "code",
   "execution_count": 55,
   "metadata": {},
   "outputs": [
    {
     "data": {
      "text/plain": [
       "6"
      ]
     },
     "execution_count": 55,
     "metadata": {},
     "output_type": "execute_result"
    }
   ],
   "source": [
    "sum([1,2,3])"
   ]
  },
  {
   "cell_type": "code",
   "execution_count": null,
   "metadata": {},
   "outputs": [],
   "source": []
  }
 ],
 "metadata": {
  "celltoolbar": "Edit Metadata",
  "exercise_series": "eidp",
  "kernelspec": {
   "display_name": "Python 3 (ipykernel)",
   "language": "python",
   "name": "python3"
  },
  "language_info": {
   "codemirror_mode": {
    "name": "ipython",
    "version": 3
   },
   "file_extension": ".py",
   "mimetype": "text/x-python",
   "name": "python",
   "nbconvert_exporter": "python",
   "pygments_lexer": "ipython3",
   "version": "3.9.7"
  },
  "notebook_id": 11,
  "toc": {
   "base_numbering": 1,
   "nav_menu": {},
   "number_sections": false,
   "sideBar": false,
   "skip_h1_title": false,
   "title_cell": "Table of Contents",
   "title_sidebar": "Contents",
   "toc_cell": false,
   "toc_position": {},
   "toc_section_display": false,
   "toc_window_display": false
  }
 },
 "nbformat": 4,
 "nbformat_minor": 4
}
